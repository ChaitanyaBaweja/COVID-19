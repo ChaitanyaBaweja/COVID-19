{
 "cells": [
  {
   "cell_type": "markdown",
   "metadata": {},
   "source": [
    "## Tracking Corona on your Smartphone Using Python - Tutorial\n",
    "\n",
    "This notebook accompanies the [Tracking Corona on your Smartphone Using Python Medium Post]().  \n",
    "We will go through each part of the code step by step.  \n",
    "\n",
    "The First Step is to **Import all the Libraries**.  \n",
    "\n",
    "We are going to use the [Selenium package](https://www.selenium.dev/) to extract data from the [Worldometers website](https://www.worldometers.info/coronavirus/). This process is called Web-Scraping. If you have never heard this term before, I would recommend going through this [tutorial](https://towardsdatascience.com/web-scraping-using-selenium-python-8a60f4cf40ab)."
   ]
  },
  {
   "cell_type": "code",
   "execution_count": 1,
   "metadata": {},
   "outputs": [],
   "source": [
    "# Scraping library\n",
    "from selenium import webdriver\n",
    "\n",
    "# Mail Libraries\n",
    "import smtplib\n",
    "from email.mime.multipart import MIMEMultipart\n",
    "from email.mime.text import MIMEText\n",
    "\n",
    "# Table Library\n",
    "from tabulate import tabulate\n"
   ]
  },
  {
   "cell_type": "markdown",
   "metadata": {},
   "source": [
    "The next step is to **setup the driver** and load the required URL"
   ]
  },
  {
   "cell_type": "code",
   "execution_count": 2,
   "metadata": {},
   "outputs": [],
   "source": [
    "# setting up driver and loading URL\n",
    "driver = webdriver.Chrome('path/to/chromedriver')\n",
    "driver.get('https://www.worldometers.info/coronavirus/')"
   ]
  },
  {
   "cell_type": "markdown",
   "metadata": {},
   "source": [
    "Now, we will ask user for the country whose data they want. Then we will extract the table on Worldometers website that provides information about confirmed cases and deaths in each country."
   ]
  },
  {
   "cell_type": "code",
   "execution_count": 4,
   "metadata": {},
   "outputs": [
    {
     "name": "stdout",
     "output_type": "stream",
     "text": [
      "Netherlands\n"
     ]
    }
   ],
   "source": [
    "Country_name = input() # asking user for country\n",
    "\n",
    "# getting table out\n",
    "table = driver.find_element_by_xpath('//*[@id=\"main_table_countries_today\"]/tbody[1]')\n",
    "\n",
    "# getting country row out\n",
    "xpath = \"//td[contains(text(), '%s')]\"% Country_name\n",
    "country_element = table.find_element_by_xpath(xpath)\n",
    "row = country_element.find_element_by_xpath(\"./..\")"
   ]
  },
  {
   "cell_type": "markdown",
   "metadata": {},
   "source": [
    "Now, since we have a pointer to the required row, we will extract data from each cell in the row. All values are then stored in a list."
   ]
  },
  {
   "cell_type": "code",
   "execution_count": 5,
   "metadata": {},
   "outputs": [
    {
     "name": "stdout",
     "output_type": "stream",
     "text": [
      "['Netherlands', '2,460', '+409', '76', '+18', '2', '2,382', '45', '144']\n"
     ]
    }
   ],
   "source": [
    "# extracting data from each row_cell\n",
    "col_data = row.find_elements_by_tag_name(\"td\")\n",
    "data_val = [x.text for x in col_data]\n",
    "print(data_val)"
   ]
  },
  {
   "cell_type": "markdown",
   "metadata": {},
   "source": [
    "We will first convert this list into a dict with proper labels. Then, we will use the tabulate library and convert into a table."
   ]
  },
  {
   "cell_type": "code",
   "execution_count": 6,
   "metadata": {},
   "outputs": [
    {
     "name": "stdout",
     "output_type": "stream",
     "text": [
      "+-------------------------+-------------+\n",
      "| Country                 | Netherlands |\n",
      "+-------------------------+-------------+\n",
      "| Total Cases             | 2,460       |\n",
      "+-------------------------+-------------+\n",
      "| New Cases               | +409        |\n",
      "+-------------------------+-------------+\n",
      "| Total Deaths            | 76          |\n",
      "+-------------------------+-------------+\n",
      "| New Deaths              | +18         |\n",
      "+-------------------------+-------------+\n",
      "| Active Cases            | 2           |\n",
      "+-------------------------+-------------+\n",
      "| Total Recovered         | 2,382       |\n",
      "+-------------------------+-------------+\n",
      "| Serious, critical cases | 45          |\n",
      "+-------------------------+-------------+\n",
      "| Total Cases per million | 144         |\n",
      "+-------------------------+-------------+\n"
     ]
    }
   ],
   "source": [
    "# converting data into a dictionary and then a table\n",
    "data_keys = ['Country', 'Total Cases', 'New Cases', 'Total Deaths', 'New Deaths','Active Cases','Total Recovered','Serious, critical cases','Total Cases per million']\n",
    "data_dict = dict(zip(data_keys,data_val))\n",
    "table=tabulate(data_dict.items(), tablefmt=\"grid\")\n",
    "\n",
    "print(table)"
   ]
  },
  {
   "cell_type": "markdown",
   "metadata": {},
   "source": [
    "Now that we have the extracted data in a python dictionary, we can send this as an **email update** every morning.  \n",
    "\n",
    "Firstly, you need to login to your Gmail account and go to App Passwords.  \n",
    "\n",
    "Here, set up a new app and generate a new password. Use it in server.login() in the code below. The script might seem a little complicated. This is  only because I wanted the data to be formatted as a table."
   ]
  },
  {
   "cell_type": "code",
   "execution_count": 7,
   "metadata": {},
   "outputs": [],
   "source": [
    "def send_mail_table(data_dict):\n",
    "    # setting mail up\n",
    "    server = smtplib.SMTP('smtp.gmail.com', 587)\n",
    "    server.ehlo()\n",
    "    server.starttls()\n",
    "    server.ehlo()\n",
    "    \n",
    "    # setting login details\n",
    "    server.login('email_addr', 'app_password')\n",
    "    \n",
    "    # mail subject\n",
    "    subject = 'COVID-19 stats for your country'\n",
    "    \n",
    "    # mail body\n",
    "    text = \"\"\"Data regarding COVID-19 in your country today. Source: https://www.worldometers.info/coronavirus/ \n",
    "    \n",
    "    {table}\n",
    "\n",
    "    Regards,\n",
    "\n",
    "    Covid-update\"\"\"\n",
    "    \n",
    "    # mail html\n",
    "    html = \"\"\"\n",
    "    <html>\n",
    "    <head>\n",
    "    <style> \n",
    "      table, th, td {{ border: 1px solid black; border-collapse: collapse; }}\n",
    "      th, td {{ padding: 5px; }}\n",
    "    </style>\n",
    "    </head>\n",
    "    <body><p>Data regarding COVID-19 in your country today. Source: \n",
    "    <a href=\"https://www.worldometers.info/coronavirus/\">Worldometers</a>\n",
    "    </p>\n",
    "    {table}\n",
    "    <p>Regards,</p>\n",
    "    <p>Covid-update</p>\n",
    "    </body></html>\n",
    "    \"\"\"\n",
    "    \n",
    "    text = text.format(table=tabulate(data_dict.items(), tablefmt=\"grid\"))\n",
    "    html = html.format(table=tabulate(data_dict.items(), tablefmt=\"html\"))\n",
    "    \n",
    "    message = MIMEMultipart(\n",
    "        \"alternative\", None, [MIMEText(text), MIMEText(html,'html')])\n",
    "\n",
    "    message['Subject'] = subject\n",
    "    message['From'] = 'sender_email'\n",
    "    message['To'] = 'receiver_email' # receiver\n",
    "\n",
    "    \n",
    "    server.sendmail(\n",
    "        message['From'],\n",
    "        message['To'],\n",
    "        message.as_string()\n",
    "    )\n",
    "    print('Hey Email has been sent!')\n",
    "\n",
    "    server.quit()"
   ]
  },
  {
   "cell_type": "code",
   "execution_count": 8,
   "metadata": {},
   "outputs": [
    {
     "name": "stdout",
     "output_type": "stream",
     "text": [
      "Hey Email has been sent!\n"
     ]
    }
   ],
   "source": [
    "# sending email\n",
    "send_mail_table(data_dict)\n"
   ]
  },
  {
   "cell_type": "markdown",
   "metadata": {},
   "source": [
    "## Important Links\n",
    "* [COVID-19 Github Repo](https://github.com/ChaitanyaBaweja/COVID-19)\n",
    "* [Worldometers Website](https://www.worldometers.info/coronavirus/)\n",
    "* [Selenium Tutorial](https://dev.to/razgandeanu/selenium-cheat-sheet-9lc)\n"
   ]
  },
  {
   "cell_type": "code",
   "execution_count": null,
   "metadata": {},
   "outputs": [],
   "source": []
  },
  {
   "cell_type": "code",
   "execution_count": null,
   "metadata": {},
   "outputs": [],
   "source": []
  },
  {
   "cell_type": "code",
   "execution_count": null,
   "metadata": {},
   "outputs": [],
   "source": []
  },
  {
   "cell_type": "code",
   "execution_count": null,
   "metadata": {},
   "outputs": [],
   "source": []
  }
 ],
 "metadata": {
  "kernelspec": {
   "display_name": "Python 3",
   "language": "python",
   "name": "python3"
  },
  "language_info": {
   "codemirror_mode": {
    "name": "ipython",
    "version": 3
   },
   "file_extension": ".py",
   "mimetype": "text/x-python",
   "name": "python",
   "nbconvert_exporter": "python",
   "pygments_lexer": "ipython3",
   "version": "3.7.4"
  },
  "toc": {
   "base_numbering": 1,
   "nav_menu": {},
   "number_sections": true,
   "sideBar": true,
   "skip_h1_title": false,
   "title_cell": "Table of Contents",
   "title_sidebar": "Contents",
   "toc_cell": false,
   "toc_position": {},
   "toc_section_display": true,
   "toc_window_display": false
  },
  "varInspector": {
   "cols": {
    "lenName": 16,
    "lenType": 16,
    "lenVar": 40
   },
   "kernels_config": {
    "python": {
     "delete_cmd_postfix": "",
     "delete_cmd_prefix": "del ",
     "library": "var_list.py",
     "varRefreshCmd": "print(var_dic_list())"
    },
    "r": {
     "delete_cmd_postfix": ") ",
     "delete_cmd_prefix": "rm(",
     "library": "var_list.r",
     "varRefreshCmd": "cat(var_dic_list()) "
    }
   },
   "types_to_exclude": [
    "module",
    "function",
    "builtin_function_or_method",
    "instance",
    "_Feature"
   ],
   "window_display": false
  }
 },
 "nbformat": 4,
 "nbformat_minor": 2
}
